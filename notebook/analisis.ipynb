{
 "cells": [
  {
   "cell_type": "markdown",
   "id": "231640b3",
   "metadata": {},
   "source": [
    "# 📊 Análisis de Datos de Libros\n",
    "\n",
    "**Fernando Blanco**\n",
    "\n",
    "Este notebook realiza un análisis exploratorio sobre los datos extraídos y procesados desde https://books.toscrape.com/, utilizando **Pandas**, **NumPy**, **Seaborn** y **Matplotlib**.\n",
    "\n",
    "---\n",
    "\n",
    "## Objetivo\n",
    "\n",
    "Analizar la información de los libros (título, precio, disponibilidad, rating, categoría e imagen) para identificar patrones y generar visualizaciones que aporten valor.\n",
    "\n",
    "---"
   ]
  },
  {
   "cell_type": "code",
   "execution_count": 77,
   "id": "0e2e3168",
   "metadata": {},
   "outputs": [
    {
     "data": {
      "text/html": [
       "<div>\n",
       "<style scoped>\n",
       "    .dataframe tbody tr th:only-of-type {\n",
       "        vertical-align: middle;\n",
       "    }\n",
       "\n",
       "    .dataframe tbody tr th {\n",
       "        vertical-align: top;\n",
       "    }\n",
       "\n",
       "    .dataframe thead th {\n",
       "        text-align: right;\n",
       "    }\n",
       "</style>\n",
       "<table border=\"1\" class=\"dataframe\">\n",
       "  <thead>\n",
       "    <tr style=\"text-align: right;\">\n",
       "      <th></th>\n",
       "      <th>title</th>\n",
       "      <th>price</th>\n",
       "      <th>availability</th>\n",
       "      <th>rating</th>\n",
       "      <th>category</th>\n",
       "      <th>image_path</th>\n",
       "    </tr>\n",
       "  </thead>\n",
       "  <tbody>\n",
       "    <tr>\n",
       "      <th>0</th>\n",
       "      <td>A Light in the Attic</td>\n",
       "      <td>51.77</td>\n",
       "      <td>22</td>\n",
       "      <td>3</td>\n",
       "      <td>Poetry</td>\n",
       "      <td>images\\A_Light_in_the_Attic.jpg</td>\n",
       "    </tr>\n",
       "    <tr>\n",
       "      <th>1</th>\n",
       "      <td>Tipping the Velvet</td>\n",
       "      <td>53.74</td>\n",
       "      <td>20</td>\n",
       "      <td>1</td>\n",
       "      <td>Historical Fiction</td>\n",
       "      <td>images\\Tipping_the_Velvet.jpg</td>\n",
       "    </tr>\n",
       "    <tr>\n",
       "      <th>2</th>\n",
       "      <td>Soumission</td>\n",
       "      <td>50.10</td>\n",
       "      <td>20</td>\n",
       "      <td>1</td>\n",
       "      <td>Fiction</td>\n",
       "      <td>images\\Soumission.jpg</td>\n",
       "    </tr>\n",
       "    <tr>\n",
       "      <th>3</th>\n",
       "      <td>Sharp Objects</td>\n",
       "      <td>47.82</td>\n",
       "      <td>20</td>\n",
       "      <td>4</td>\n",
       "      <td>Mystery</td>\n",
       "      <td>images\\Sharp_Objects.jpg</td>\n",
       "    </tr>\n",
       "    <tr>\n",
       "      <th>4</th>\n",
       "      <td>Sapiens: A Brief History of Humankind</td>\n",
       "      <td>54.23</td>\n",
       "      <td>20</td>\n",
       "      <td>5</td>\n",
       "      <td>History</td>\n",
       "      <td>images\\Sapiens__A_Brief_History_of_Humankind.jpg</td>\n",
       "    </tr>\n",
       "  </tbody>\n",
       "</table>\n",
       "</div>"
      ],
      "text/plain": [
       "                                   title  price  availability  rating  \\\n",
       "0                   A Light in the Attic  51.77            22       3   \n",
       "1                     Tipping the Velvet  53.74            20       1   \n",
       "2                             Soumission  50.10            20       1   \n",
       "3                          Sharp Objects  47.82            20       4   \n",
       "4  Sapiens: A Brief History of Humankind  54.23            20       5   \n",
       "\n",
       "             category                                        image_path  \n",
       "0              Poetry                   images\\A_Light_in_the_Attic.jpg  \n",
       "1  Historical Fiction                     images\\Tipping_the_Velvet.jpg  \n",
       "2             Fiction                             images\\Soumission.jpg  \n",
       "3             Mystery                          images\\Sharp_Objects.jpg  \n",
       "4             History  images\\Sapiens__A_Brief_History_of_Humankind.jpg  "
      ]
     },
     "execution_count": 77,
     "metadata": {},
     "output_type": "execute_result"
    }
   ],
   "source": [
    "import pandas as pd\n",
    "import seaborn as sns\n",
    "import matplotlib.pyplot as plt\n",
    "\n",
    "df = pd.read_csv(r\"C:\\Users\\blanc\\OneDrive\\Escritorio\\Ingenieria de Datos\\Proyectos\\Web Scraping y ETL\\data\\processed\\books.csv\")\n",
    "df.head()"
   ]
  },
  {
   "cell_type": "code",
   "execution_count": 78,
   "id": "22fc236a",
   "metadata": {},
   "outputs": [
    {
     "name": "stdout",
     "output_type": "stream",
     "text": [
      "<class 'pandas.core.frame.DataFrame'>\n",
      "RangeIndex: 499 entries, 0 to 498\n",
      "Data columns (total 6 columns):\n",
      " #   Column        Non-Null Count  Dtype  \n",
      "---  ------        --------------  -----  \n",
      " 0   title         499 non-null    object \n",
      " 1   price         499 non-null    float64\n",
      " 2   availability  499 non-null    int64  \n",
      " 3   rating        499 non-null    int64  \n",
      " 4   category      499 non-null    object \n",
      " 5   image_path    499 non-null    object \n",
      "dtypes: float64(1), int64(2), object(3)\n",
      "memory usage: 23.5+ KB\n"
     ]
    },
    {
     "data": {
      "text/html": [
       "<div>\n",
       "<style scoped>\n",
       "    .dataframe tbody tr th:only-of-type {\n",
       "        vertical-align: middle;\n",
       "    }\n",
       "\n",
       "    .dataframe tbody tr th {\n",
       "        vertical-align: top;\n",
       "    }\n",
       "\n",
       "    .dataframe thead th {\n",
       "        text-align: right;\n",
       "    }\n",
       "</style>\n",
       "<table border=\"1\" class=\"dataframe\">\n",
       "  <thead>\n",
       "    <tr style=\"text-align: right;\">\n",
       "      <th></th>\n",
       "      <th>price</th>\n",
       "      <th>availability</th>\n",
       "      <th>rating</th>\n",
       "    </tr>\n",
       "  </thead>\n",
       "  <tbody>\n",
       "    <tr>\n",
       "      <th>count</th>\n",
       "      <td>499.000000</td>\n",
       "      <td>499.000000</td>\n",
       "      <td>499.000000</td>\n",
       "    </tr>\n",
       "    <tr>\n",
       "      <th>mean</th>\n",
       "      <td>35.045892</td>\n",
       "      <td>13.669339</td>\n",
       "      <td>2.923848</td>\n",
       "    </tr>\n",
       "    <tr>\n",
       "      <th>std</th>\n",
       "      <td>14.567168</td>\n",
       "      <td>3.006833</td>\n",
       "      <td>1.427714</td>\n",
       "    </tr>\n",
       "    <tr>\n",
       "      <th>min</th>\n",
       "      <td>10.160000</td>\n",
       "      <td>7.000000</td>\n",
       "      <td>1.000000</td>\n",
       "    </tr>\n",
       "    <tr>\n",
       "      <th>25%</th>\n",
       "      <td>21.845000</td>\n",
       "      <td>12.000000</td>\n",
       "      <td>2.000000</td>\n",
       "    </tr>\n",
       "    <tr>\n",
       "      <th>50%</th>\n",
       "      <td>36.720000</td>\n",
       "      <td>14.000000</td>\n",
       "      <td>3.000000</td>\n",
       "    </tr>\n",
       "    <tr>\n",
       "      <th>75%</th>\n",
       "      <td>47.770000</td>\n",
       "      <td>16.000000</td>\n",
       "      <td>4.000000</td>\n",
       "    </tr>\n",
       "    <tr>\n",
       "      <th>max</th>\n",
       "      <td>59.900000</td>\n",
       "      <td>22.000000</td>\n",
       "      <td>5.000000</td>\n",
       "    </tr>\n",
       "  </tbody>\n",
       "</table>\n",
       "</div>"
      ],
      "text/plain": [
       "            price  availability      rating\n",
       "count  499.000000    499.000000  499.000000\n",
       "mean    35.045892     13.669339    2.923848\n",
       "std     14.567168      3.006833    1.427714\n",
       "min     10.160000      7.000000    1.000000\n",
       "25%     21.845000     12.000000    2.000000\n",
       "50%     36.720000     14.000000    3.000000\n",
       "75%     47.770000     16.000000    4.000000\n",
       "max     59.900000     22.000000    5.000000"
      ]
     },
     "execution_count": 78,
     "metadata": {},
     "output_type": "execute_result"
    }
   ],
   "source": [
    "df.info()\n",
    "df.describe()"
   ]
  },
  {
   "cell_type": "code",
   "execution_count": 79,
   "id": "07814bac",
   "metadata": {},
   "outputs": [],
   "source": [
    "# Eliminar columna image_path\n",
    "\n",
    "df = df.drop(columns=['image_path'])"
   ]
  },
  {
   "cell_type": "markdown",
   "id": "b0511c2a",
   "metadata": {},
   "source": [
    "----\n",
    "**Distribucion de Precios de Libros**"
   ]
  },
  {
   "cell_type": "code",
   "execution_count": 80,
   "id": "18ce5fb2",
   "metadata": {},
   "outputs": [
    {
     "data": {
      "image/png": "[encoded data removed]",
      "text/plain": [
       "<Figure size 640x480 with 1 Axes>"
      ]
     },
     "metadata": {},
     "output_type": "display_data"
    }
   ],
   "source": [
    "sns.histplot(df['price'], kde=True)\n",
    "plt.title(\"Distribución de Precios de Libros\")\n",
    "plt.xlabel(\"Precio (£)\")\n",
    "plt.ylabel(\"Frecuencia\")\n",
    "plt.show()"
   ]
  },
  {
   "cell_type": "markdown",
   "id": "e81ca34e",
   "metadata": {},
   "source": [
    "Con esta distribución se puede observar que hay menos unidades que cuesten de entre 30 y 35 libras esterlinas. Lo demás está balanceado exceptuando los libros de precios entre 35 y 40 que son de los que más unidades existen."
   ]
  },
  {
   "cell_type": "markdown",
   "id": "57635d79",
   "metadata": {},
   "source": [
    "**Categorias con mas unidades.**"
   ]
  },
  {
   "cell_type": "code",
   "execution_count": 81,
   "id": "28f2dc50",
   "metadata": {},
   "outputs": [
    {
     "data": {
      "text/plain": [
       "category\n",
       "Default           79\n",
       "Nonfiction        63\n",
       "Sequential Art    40\n",
       "Fiction           36\n",
       "Add a comment     27\n",
       "Young Adult       27\n",
       "Food and Drink    19\n",
       "Mystery           18\n",
       "Fantasy           18\n",
       "Romance           15\n",
       "Name: count, dtype: int64"
      ]
     },
     "execution_count": 81,
     "metadata": {},
     "output_type": "execute_result"
    }
   ],
   "source": [
    "df['category'].value_counts().head(10)"
   ]
  },
  {
   "cell_type": "markdown",
   "id": "f13b7d93",
   "metadata": {},
   "source": [
    "Las categorias con mas unidades son `Default`, `Nonfiction`, `Sequential Art` y `Fiction`.\n",
    "\n",
    "Tambien se puede observar que hay categorias que no fueron registradas de manera correcta, como `Add a comment` pero para caso de este estudio se mantendrán."
   ]
  },
  {
   "cell_type": "markdown",
   "id": "045cc795",
   "metadata": {},
   "source": [
    "**Categorias con los precios promedios más altos.**"
   ]
  },
  {
   "cell_type": "code",
   "execution_count": 82,
   "id": "06e70383",
   "metadata": {},
   "outputs": [
    {
     "name": "stdout",
     "output_type": "stream",
     "text": [
      "category\n",
      "Suspense        58.330000\n",
      "Novels          54.810000\n",
      "Politics        53.613333\n",
      "Health          51.452500\n",
      "Christian       50.860000\n",
      "New Adult       48.070000\n",
      "Science         44.488333\n",
      "Travel          43.548000\n",
      "Contemporary    42.280000\n",
      "Fantasy         40.065000\n",
      "Name: price, dtype: float64\n"
     ]
    }
   ],
   "source": [
    "categorias_precios_altos = df.groupby('category')['price'].mean().sort_values(ascending=False).head(10)\n",
    "print(categorias_precios_altos)"
   ]
  },
  {
   "cell_type": "markdown",
   "id": "f8ce8530",
   "metadata": {},
   "source": [
    "Las categorias `Suspense` y `Novels` son las más costosas aunque no por mucho."
   ]
  },
  {
   "cell_type": "markdown",
   "id": "17128429",
   "metadata": {},
   "source": [
    "**Categorías con el Precio Máximo Más Alto**"
   ]
  },
  {
   "cell_type": "code",
   "execution_count": 83,
   "id": "ddf3d169",
   "metadata": {},
   "outputs": [
    {
     "data": {
      "text/plain": [
       "category\n",
       "Nonfiction       59.90\n",
       "History          59.64\n",
       "Mystery          59.48\n",
       "Fiction          59.45\n",
       "Add a comment    59.15\n",
       "Default          58.87\n",
       "Suspense         58.33\n",
       "Young Adult      58.14\n",
       "Philosophy       58.11\n",
       "Childrens        58.08\n",
       "Name: price, dtype: float64"
      ]
     },
     "execution_count": 83,
     "metadata": {},
     "output_type": "execute_result"
    }
   ],
   "source": [
    "categorias_precio_max = df.groupby('category')['price'].max().sort_values(ascending=False).head(10)\n",
    "categorias_precio_max"
   ]
  },
  {
   "cell_type": "markdown",
   "id": "39125b4f",
   "metadata": {},
   "source": [
    "**Libros más caros por categoría**"
   ]
  },
  {
   "cell_type": "code",
   "execution_count": 84,
   "id": "4beae1ed",
   "metadata": {},
   "outputs": [
    {
     "data": {
      "text/html": [
       "<div>\n",
       "<style scoped>\n",
       "    .dataframe tbody tr th:only-of-type {\n",
       "        vertical-align: middle;\n",
       "    }\n",
       "\n",
       "    .dataframe tbody tr th {\n",
       "        vertical-align: top;\n",
       "    }\n",
       "\n",
       "    .dataframe thead th {\n",
       "        text-align: right;\n",
       "    }\n",
       "</style>\n",
       "<table border=\"1\" class=\"dataframe\">\n",
       "  <thead>\n",
       "    <tr style=\"text-align: right;\">\n",
       "      <th></th>\n",
       "      <th>category</th>\n",
       "      <th>title</th>\n",
       "      <th>price</th>\n",
       "      <th>rating</th>\n",
       "    </tr>\n",
       "  </thead>\n",
       "  <tbody>\n",
       "    <tr>\n",
       "      <th>365</th>\n",
       "      <td>Nonfiction</td>\n",
       "      <td>The Diary of a Young Girl</td>\n",
       "      <td>59.90</td>\n",
       "      <td>3</td>\n",
       "    </tr>\n",
       "    <tr>\n",
       "      <th>133</th>\n",
       "      <td>History</td>\n",
       "      <td>Thomas Jefferson and the Tripoli Pirates: The ...</td>\n",
       "      <td>59.64</td>\n",
       "      <td>1</td>\n",
       "    </tr>\n",
       "    <tr>\n",
       "      <th>386</th>\n",
       "      <td>Mystery</td>\n",
       "      <td>Boar Island (Anna Pigeon #19)</td>\n",
       "      <td>59.48</td>\n",
       "      <td>3</td>\n",
       "    </tr>\n",
       "    <tr>\n",
       "      <th>392</th>\n",
       "      <td>Fiction</td>\n",
       "      <td>The Improbability of Love</td>\n",
       "      <td>59.45</td>\n",
       "      <td>1</td>\n",
       "    </tr>\n",
       "    <tr>\n",
       "      <th>361</th>\n",
       "      <td>Add a comment</td>\n",
       "      <td>The Gray Rhino: How to Recognize and Act on th...</td>\n",
       "      <td>59.15</td>\n",
       "      <td>4</td>\n",
       "    </tr>\n",
       "  </tbody>\n",
       "</table>\n",
       "</div>"
      ],
      "text/plain": [
       "          category                                              title  price  \\\n",
       "365     Nonfiction                          The Diary of a Young Girl  59.90   \n",
       "133        History  Thomas Jefferson and the Tripoli Pirates: The ...  59.64   \n",
       "386        Mystery                      Boar Island (Anna Pigeon #19)  59.48   \n",
       "392        Fiction                          The Improbability of Love  59.45   \n",
       "361  Add a comment  The Gray Rhino: How to Recognize and Act on th...  59.15   \n",
       "\n",
       "     rating  \n",
       "365       3  \n",
       "133       1  \n",
       "386       3  \n",
       "392       1  \n",
       "361       4  "
      ]
     },
     "execution_count": 84,
     "metadata": {},
     "output_type": "execute_result"
    }
   ],
   "source": [
    "libros_mas_caros = df.loc[df.groupby('category')['price'].idxmax()]\n",
    "libros_mas_caros = libros_mas_caros.sort_values(by='price', ascending=False)\n",
    "libros_mas_caros[['category', 'title', 'price', 'rating']].head(5)"
   ]
  },
  {
   "cell_type": "markdown",
   "id": "0d0ba4ac",
   "metadata": {},
   "source": [
    "El libro más caro de todo el catálogo de libros es de la categoria `Nonfiction` llamado `The Diary of a Young Girl`.\n",
    "\n",
    "Algo notable es que los libros más caros, no son los mejor calificados por los lectores."
   ]
  },
  {
   "cell_type": "markdown",
   "id": "a4f2775f",
   "metadata": {},
   "source": [
    "**Libros mas baratos**"
   ]
  },
  {
   "cell_type": "code",
   "execution_count": 96,
   "id": "256dd04a",
   "metadata": {},
   "outputs": [
    {
     "data": {
      "text/html": [
       "<div>\n",
       "<style scoped>\n",
       "    .dataframe tbody tr th:only-of-type {\n",
       "        vertical-align: middle;\n",
       "    }\n",
       "\n",
       "    .dataframe tbody tr th {\n",
       "        vertical-align: top;\n",
       "    }\n",
       "\n",
       "    .dataframe thead th {\n",
       "        text-align: right;\n",
       "    }\n",
       "</style>\n",
       "<table border=\"1\" class=\"dataframe\">\n",
       "  <thead>\n",
       "    <tr style=\"text-align: right;\">\n",
       "      <th></th>\n",
       "      <th>title</th>\n",
       "      <th>price</th>\n",
       "      <th>availability</th>\n",
       "      <th>rating</th>\n",
       "      <th>category</th>\n",
       "    </tr>\n",
       "  </thead>\n",
       "  <tbody>\n",
       "    <tr>\n",
       "      <th>152</th>\n",
       "      <td>The Long Shadow of Small Ghosts: Murder and Memory in an American City</td>\n",
       "      <td>10.97</td>\n",
       "      <td>15</td>\n",
       "      <td>1</td>\n",
       "      <td>Crime</td>\n",
       "    </tr>\n",
       "    <tr>\n",
       "      <th>200</th>\n",
       "      <td>Dark Notes</td>\n",
       "      <td>19.19</td>\n",
       "      <td>15</td>\n",
       "      <td>5</td>\n",
       "      <td>Erotica</td>\n",
       "    </tr>\n",
       "    <tr>\n",
       "      <th>396</th>\n",
       "      <td>Setting the World on Fire: The Brief, Astonishing Life of St. Catherine of Siena</td>\n",
       "      <td>21.15</td>\n",
       "      <td>11</td>\n",
       "      <td>2</td>\n",
       "      <td>Biography</td>\n",
       "    </tr>\n",
       "    <tr>\n",
       "      <th>340</th>\n",
       "      <td>All the Light We Cannot See</td>\n",
       "      <td>29.87</td>\n",
       "      <td>14</td>\n",
       "      <td>5</td>\n",
       "      <td>Historical</td>\n",
       "    </tr>\n",
       "    <tr>\n",
       "      <th>453</th>\n",
       "      <td>The Grownup</td>\n",
       "      <td>35.88</td>\n",
       "      <td>8</td>\n",
       "      <td>1</td>\n",
       "      <td>Short Stories</td>\n",
       "    </tr>\n",
       "  </tbody>\n",
       "</table>\n",
       "</div>"
      ],
      "text/plain": [
       "                                                                                title  \\\n",
       "152            The Long Shadow of Small Ghosts: Murder and Memory in an American City   \n",
       "200                                                                        Dark Notes   \n",
       "396  Setting the World on Fire: The Brief, Astonishing Life of St. Catherine of Siena   \n",
       "340                                                       All the Light We Cannot See   \n",
       "453                                                                       The Grownup   \n",
       "\n",
       "     price  availability  rating       category  \n",
       "152  10.97            15       1          Crime  \n",
       "200  19.19            15       5        Erotica  \n",
       "396  21.15            11       2      Biography  \n",
       "340  29.87            14       5     Historical  \n",
       "453  35.88             8       1  Short Stories  "
      ]
     },
     "execution_count": 96,
     "metadata": {},
     "output_type": "execute_result"
    }
   ],
   "source": [
    "libros_mas_baratos = libros_mas_caros.sort_values(by='price', ascending=True).head(5)\n",
    "pd.set_option('display.max_colwidth', None)\n",
    "libros_mas_baratos"
   ]
  },
  {
   "cell_type": "markdown",
   "id": "acee73a2",
   "metadata": {},
   "source": [
    "El libro más barato es `The Long Shadow of Small Ghosts: Murder and Memory in an American City` y tiene una calificación muy baja.\n",
    "\n",
    "Aunque el segundo más barato `Dark Notes` tiene buena calificación."
   ]
  },
  {
   "cell_type": "markdown",
   "id": "ff509608",
   "metadata": {},
   "source": [
    "**Libros con más disponibilidad**"
   ]
  },
  {
   "cell_type": "code",
   "execution_count": 86,
   "id": "e4888b94",
   "metadata": {},
   "outputs": [
    {
     "data": {
      "text/html": [
       "<div>\n",
       "<style scoped>\n",
       "    .dataframe tbody tr th:only-of-type {\n",
       "        vertical-align: middle;\n",
       "    }\n",
       "\n",
       "    .dataframe tbody tr th {\n",
       "        vertical-align: top;\n",
       "    }\n",
       "\n",
       "    .dataframe thead th {\n",
       "        text-align: right;\n",
       "    }\n",
       "</style>\n",
       "<table border=\"1\" class=\"dataframe\">\n",
       "  <thead>\n",
       "    <tr style=\"text-align: right;\">\n",
       "      <th></th>\n",
       "      <th>title</th>\n",
       "      <th>price</th>\n",
       "      <th>availability</th>\n",
       "      <th>rating</th>\n",
       "      <th>category</th>\n",
       "    </tr>\n",
       "  </thead>\n",
       "  <tbody>\n",
       "    <tr>\n",
       "      <th>0</th>\n",
       "      <td>A Light in the Attic</td>\n",
       "      <td>51.77</td>\n",
       "      <td>22</td>\n",
       "      <td>3</td>\n",
       "      <td>Poetry</td>\n",
       "    </tr>\n",
       "    <tr>\n",
       "      <th>3</th>\n",
       "      <td>Sharp Objects</td>\n",
       "      <td>47.82</td>\n",
       "      <td>20</td>\n",
       "      <td>4</td>\n",
       "      <td>Mystery</td>\n",
       "    </tr>\n",
       "    <tr>\n",
       "      <th>1</th>\n",
       "      <td>Tipping the Velvet</td>\n",
       "      <td>53.74</td>\n",
       "      <td>20</td>\n",
       "      <td>1</td>\n",
       "      <td>Historical Fiction</td>\n",
       "    </tr>\n",
       "    <tr>\n",
       "      <th>2</th>\n",
       "      <td>Soumission</td>\n",
       "      <td>50.10</td>\n",
       "      <td>20</td>\n",
       "      <td>1</td>\n",
       "      <td>Fiction</td>\n",
       "    </tr>\n",
       "    <tr>\n",
       "      <th>4</th>\n",
       "      <td>Sapiens: A Brief History of Humankind</td>\n",
       "      <td>54.23</td>\n",
       "      <td>20</td>\n",
       "      <td>5</td>\n",
       "      <td>History</td>\n",
       "    </tr>\n",
       "  </tbody>\n",
       "</table>\n",
       "</div>"
      ],
      "text/plain": [
       "                                   title  price  availability  rating  \\\n",
       "0                   A Light in the Attic  51.77            22       3   \n",
       "3                          Sharp Objects  47.82            20       4   \n",
       "1                     Tipping the Velvet  53.74            20       1   \n",
       "2                             Soumission  50.10            20       1   \n",
       "4  Sapiens: A Brief History of Humankind  54.23            20       5   \n",
       "\n",
       "             category  \n",
       "0              Poetry  \n",
       "3             Mystery  \n",
       "1  Historical Fiction  \n",
       "2             Fiction  \n",
       "4             History  "
      ]
     },
     "execution_count": 86,
     "metadata": {},
     "output_type": "execute_result"
    }
   ],
   "source": [
    "libros_mas_disponibilidad = df.sort_values(by='availability', ascending=False).head(5)\n",
    "libros_mas_disponibilidad"
   ]
  },
  {
   "cell_type": "markdown",
   "id": "bc3b14d0",
   "metadata": {},
   "source": [
    "**Libros con menos disponibilidad**"
   ]
  },
  {
   "cell_type": "code",
   "execution_count": 87,
   "id": "7d453c25",
   "metadata": {},
   "outputs": [
    {
     "data": {
      "text/html": [
       "<div>\n",
       "<style scoped>\n",
       "    .dataframe tbody tr th:only-of-type {\n",
       "        vertical-align: middle;\n",
       "    }\n",
       "\n",
       "    .dataframe tbody tr th {\n",
       "        vertical-align: top;\n",
       "    }\n",
       "\n",
       "    .dataframe thead th {\n",
       "        text-align: right;\n",
       "    }\n",
       "</style>\n",
       "<table border=\"1\" class=\"dataframe\">\n",
       "  <thead>\n",
       "    <tr style=\"text-align: right;\">\n",
       "      <th></th>\n",
       "      <th>title</th>\n",
       "      <th>price</th>\n",
       "      <th>availability</th>\n",
       "      <th>rating</th>\n",
       "      <th>category</th>\n",
       "    </tr>\n",
       "  </thead>\n",
       "  <tbody>\n",
       "    <tr>\n",
       "      <th>498</th>\n",
       "      <td>The Whale</td>\n",
       "      <td>35.96</td>\n",
       "      <td>7</td>\n",
       "      <td>4</td>\n",
       "      <td>Childrens</td>\n",
       "    </tr>\n",
       "    <tr>\n",
       "      <th>497</th>\n",
       "      <td>The Year of Living Biblically: One Man's Humbl...</td>\n",
       "      <td>34.72</td>\n",
       "      <td>7</td>\n",
       "      <td>1</td>\n",
       "      <td>Default</td>\n",
       "    </tr>\n",
       "    <tr>\n",
       "      <th>496</th>\n",
       "      <td>Toddlers Are A**holes: It's Not Your Fault</td>\n",
       "      <td>25.55</td>\n",
       "      <td>7</td>\n",
       "      <td>1</td>\n",
       "      <td>Humor</td>\n",
       "    </tr>\n",
       "    <tr>\n",
       "      <th>495</th>\n",
       "      <td>Under the Tuscan Sun</td>\n",
       "      <td>37.33</td>\n",
       "      <td>7</td>\n",
       "      <td>3</td>\n",
       "      <td>Travel</td>\n",
       "    </tr>\n",
       "    <tr>\n",
       "      <th>494</th>\n",
       "      <td>Unreasonable Hope: Finding Faith in the God Wh...</td>\n",
       "      <td>46.33</td>\n",
       "      <td>7</td>\n",
       "      <td>2</td>\n",
       "      <td>Spirituality</td>\n",
       "    </tr>\n",
       "  </tbody>\n",
       "</table>\n",
       "</div>"
      ],
      "text/plain": [
       "                                                 title  price  availability  \\\n",
       "498                                          The Whale  35.96             7   \n",
       "497  The Year of Living Biblically: One Man's Humbl...  34.72             7   \n",
       "496         Toddlers Are A**holes: It's Not Your Fault  25.55             7   \n",
       "495                               Under the Tuscan Sun  37.33             7   \n",
       "494  Unreasonable Hope: Finding Faith in the God Wh...  46.33             7   \n",
       "\n",
       "     rating      category  \n",
       "498       4     Childrens  \n",
       "497       1       Default  \n",
       "496       1         Humor  \n",
       "495       3        Travel  \n",
       "494       2  Spirituality  "
      ]
     },
     "execution_count": 87,
     "metadata": {},
     "output_type": "execute_result"
    }
   ],
   "source": [
    "libros_menos_disponibilidad = df.sort_values(by='availability', ascending=True).head(5)\n",
    "libros_menos_disponibilidad"
   ]
  },
  {
   "cell_type": "markdown",
   "id": "ce8a488f",
   "metadata": {},
   "source": [
    "**Categoria con mas disponibilidad**"
   ]
  },
  {
   "cell_type": "code",
   "execution_count": 88,
   "id": "436ed18e",
   "metadata": {},
   "outputs": [
    {
     "data": {
      "text/plain": [
       "category\n",
       "Default           1068\n",
       "Nonfiction         816\n",
       "Sequential Art     598\n",
       "Fiction            481\n",
       "Young Adult        363\n",
       "Name: availability, dtype: int64"
      ]
     },
     "execution_count": 88,
     "metadata": {},
     "output_type": "execute_result"
    }
   ],
   "source": [
    "categorias_mas_disponibilidad = df.groupby('category')['availability'].sum().sort_values(ascending=False).head(5)\n",
    "categorias_mas_disponibilidad"
   ]
  },
  {
   "cell_type": "markdown",
   "id": "badfcd1e",
   "metadata": {},
   "source": [
    "Es buena opción para adquirir libros de las categorias `Nonfiction`, `Sequential Art`, `Fiction` y `Young Adult`."
   ]
  },
  {
   "cell_type": "markdown",
   "id": "abf8e253",
   "metadata": {},
   "source": [
    "**Categoria con menos disponibilidad**"
   ]
  },
  {
   "cell_type": "code",
   "execution_count": 89,
   "id": "4fc37857",
   "metadata": {},
   "outputs": [
    {
     "data": {
      "text/plain": [
       "category\n",
       "Short Stories     8\n",
       "Suspense          8\n",
       "Novels            9\n",
       "Historical       14\n",
       "Crime            15\n",
       "Name: availability, dtype: int64"
      ]
     },
     "execution_count": 89,
     "metadata": {},
     "output_type": "execute_result"
    }
   ],
   "source": [
    "categorias_menos_disponibilidad = df.groupby('category')['availability'].sum().sort_values(ascending=True).head(5)\n",
    "categorias_menos_disponibilidad"
   ]
  },
  {
   "cell_type": "markdown",
   "id": "45f8dc1b",
   "metadata": {},
   "source": [
    "**Relacion rating - precio**"
   ]
  },
  {
   "cell_type": "code",
   "execution_count": 90,
   "id": "18ef1480",
   "metadata": {},
   "outputs": [
    {
     "name": "stdout",
     "output_type": "stream",
     "text": [
      "rating\n",
      "1    35.999000\n",
      "2    33.677745\n",
      "3    34.222424\n",
      "4    36.272717\n",
      "5    35.080937\n",
      "Name: price, dtype: float64\n"
     ]
    }
   ],
   "source": [
    "precio_por_rating = df.groupby('rating')['price'].mean()\n",
    "print(precio_por_rating)"
   ]
  },
  {
   "cell_type": "code",
   "execution_count": 91,
   "id": "ca653db7",
   "metadata": {},
   "outputs": [
    {
     "data": {
      "image/png": "[encoded data removed]",
      "text/plain": [
       "<Figure size 640x480 with 1 Axes>"
      ]
     },
     "metadata": {},
     "output_type": "display_data"
    }
   ],
   "source": [
    "sns.boxplot(x='rating', y='price', data=df)\n",
    "plt.title(\"Distribución de Precios por Rating\")\n",
    "plt.show()"
   ]
  },
  {
   "cell_type": "markdown",
   "id": "5074d884",
   "metadata": {},
   "source": [
    "Las calificaciones no influyen en el precio del libro, no es algo que tenga relación."
   ]
  },
  {
   "cell_type": "markdown",
   "id": "86aeb7bb",
   "metadata": {},
   "source": [
    "**Libros que valgan menos de 200 y tengan 5 estrellas.**"
   ]
  },
  {
   "cell_type": "code",
   "execution_count": 92,
   "id": "e9f0c559",
   "metadata": {},
   "outputs": [
    {
     "data": {
      "text/html": [
       "<div>\n",
       "<style scoped>\n",
       "    .dataframe tbody tr th:only-of-type {\n",
       "        vertical-align: middle;\n",
       "    }\n",
       "\n",
       "    .dataframe tbody tr th {\n",
       "        vertical-align: top;\n",
       "    }\n",
       "\n",
       "    .dataframe thead th {\n",
       "        text-align: right;\n",
       "    }\n",
       "</style>\n",
       "<table border=\"1\" class=\"dataframe\">\n",
       "  <thead>\n",
       "    <tr style=\"text-align: right;\">\n",
       "      <th></th>\n",
       "      <th>title</th>\n",
       "      <th>price</th>\n",
       "      <th>availability</th>\n",
       "      <th>rating</th>\n",
       "      <th>category</th>\n",
       "    </tr>\n",
       "  </thead>\n",
       "  <tbody>\n",
       "    <tr>\n",
       "      <th>12</th>\n",
       "      <td>Set Me Free</td>\n",
       "      <td>17.46</td>\n",
       "      <td>19</td>\n",
       "      <td>5</td>\n",
       "      <td>Young Adult</td>\n",
       "    </tr>\n",
       "    <tr>\n",
       "      <th>30</th>\n",
       "      <td>The Four Agreements: A Practical Guide to Pers...</td>\n",
       "      <td>17.66</td>\n",
       "      <td>18</td>\n",
       "      <td>5</td>\n",
       "      <td>Spirituality</td>\n",
       "    </tr>\n",
       "    <tr>\n",
       "      <th>34</th>\n",
       "      <td>Sophie's World</td>\n",
       "      <td>15.94</td>\n",
       "      <td>18</td>\n",
       "      <td>5</td>\n",
       "      <td>Philosophy</td>\n",
       "    </tr>\n",
       "    <tr>\n",
       "      <th>54</th>\n",
       "      <td>Thirst</td>\n",
       "      <td>17.27</td>\n",
       "      <td>16</td>\n",
       "      <td>5</td>\n",
       "      <td>Fiction</td>\n",
       "    </tr>\n",
       "    <tr>\n",
       "      <th>80</th>\n",
       "      <td>Princess Jellyfish 2-in-1 Omnibus, Vol. 01 (Pr...</td>\n",
       "      <td>13.61</td>\n",
       "      <td>16</td>\n",
       "      <td>5</td>\n",
       "      <td>Sequential Art</td>\n",
       "    </tr>\n",
       "  </tbody>\n",
       "</table>\n",
       "</div>"
      ],
      "text/plain": [
       "                                                title  price  availability  \\\n",
       "12                                        Set Me Free  17.46            19   \n",
       "30  The Four Agreements: A Practical Guide to Pers...  17.66            18   \n",
       "34                                     Sophie's World  15.94            18   \n",
       "54                                             Thirst  17.27            16   \n",
       "80  Princess Jellyfish 2-in-1 Omnibus, Vol. 01 (Pr...  13.61            16   \n",
       "\n",
       "    rating        category  \n",
       "12       5     Young Adult  \n",
       "30       5    Spirituality  \n",
       "34       5      Philosophy  \n",
       "54       5         Fiction  \n",
       "80       5  Sequential Art  "
      ]
     },
     "execution_count": 92,
     "metadata": {},
     "output_type": "execute_result"
    }
   ],
   "source": [
    "df = df[(df['price'] < 20) & (df['rating'] == 5)]\n",
    "df.head(5)"
   ]
  },
  {
   "cell_type": "code",
   "execution_count": 93,
   "id": "587ef77d",
   "metadata": {},
   "outputs": [
    {
     "data": {
      "text/plain": [
       "21"
      ]
     },
     "execution_count": 93,
     "metadata": {},
     "output_type": "execute_result"
    }
   ],
   "source": [
    "len(df)"
   ]
  },
  {
   "cell_type": "markdown",
   "id": "2050b593",
   "metadata": {},
   "source": [
    "21 libros son accesibles con una calificación excelente, por si se busca adquirir una lectura con la relación calidad-precio."
   ]
  }
 ],
 "metadata": {
  "kernelspec": {
   "display_name": "Python 3",
   "language": "python",
   "name": "python3"
  },
  "language_info": {
   "codemirror_mode": {
    "name": "ipython",
    "version": 3
   },
   "file_extension": ".py",
   "mimetype": "text/x-python",
   "name": "python",
   "nbconvert_exporter": "python",
   "pygments_lexer": "ipython3",
   "version": "3.11.1"
  }
 },
 "nbformat": 4,
 "nbformat_minor": 5
}
